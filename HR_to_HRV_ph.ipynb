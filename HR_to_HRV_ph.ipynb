{
 "cells": [
  {
   "cell_type": "code",
   "execution_count": 1,
   "metadata": {},
   "outputs": [],
   "source": [
    "import numpy as np\n",
    "import pandas as pd"
   ]
  },
  {
   "cell_type": "code",
   "execution_count": 2,
   "metadata": {},
   "outputs": [],
   "source": [
    "fp = pd.read_csv('/Users/dayeong/Downloads/all_intradata_dy.csv')"
   ]
  },
  {
   "cell_type": "code",
   "execution_count": 3,
   "metadata": {},
   "outputs": [
    {
     "data": {
      "text/html": [
       "<div>\n",
       "<style scoped>\n",
       "    .dataframe tbody tr th:only-of-type {\n",
       "        vertical-align: middle;\n",
       "    }\n",
       "\n",
       "    .dataframe tbody tr th {\n",
       "        vertical-align: top;\n",
       "    }\n",
       "\n",
       "    .dataframe thead th {\n",
       "        text-align: right;\n",
       "    }\n",
       "</style>\n",
       "<table border=\"1\" class=\"dataframe\">\n",
       "  <thead>\n",
       "    <tr style=\"text-align: right;\">\n",
       "      <th></th>\n",
       "      <th>time</th>\n",
       "      <th>value</th>\n",
       "      <th>date</th>\n",
       "    </tr>\n",
       "  </thead>\n",
       "  <tbody>\n",
       "    <tr>\n",
       "      <th>0</th>\n",
       "      <td>0:00:01</td>\n",
       "      <td>83</td>\n",
       "      <td>2022-04-12</td>\n",
       "    </tr>\n",
       "    <tr>\n",
       "      <th>1</th>\n",
       "      <td>0:00:06</td>\n",
       "      <td>86</td>\n",
       "      <td>2022-04-12</td>\n",
       "    </tr>\n",
       "    <tr>\n",
       "      <th>2</th>\n",
       "      <td>0:00:11</td>\n",
       "      <td>85</td>\n",
       "      <td>2022-04-12</td>\n",
       "    </tr>\n",
       "    <tr>\n",
       "      <th>3</th>\n",
       "      <td>0:00:16</td>\n",
       "      <td>83</td>\n",
       "      <td>2022-04-12</td>\n",
       "    </tr>\n",
       "    <tr>\n",
       "      <th>4</th>\n",
       "      <td>0:00:21</td>\n",
       "      <td>84</td>\n",
       "      <td>2022-04-12</td>\n",
       "    </tr>\n",
       "  </tbody>\n",
       "</table>\n",
       "</div>"
      ],
      "text/plain": [
       "      time  value        date\n",
       "0  0:00:01     83  2022-04-12\n",
       "1  0:00:06     86  2022-04-12\n",
       "2  0:00:11     85  2022-04-12\n",
       "3  0:00:16     83  2022-04-12\n",
       "4  0:00:21     84  2022-04-12"
      ]
     },
     "execution_count": 3,
     "metadata": {},
     "output_type": "execute_result"
    }
   ],
   "source": [
    "fp.head()"
   ]
  },
  {
   "cell_type": "code",
   "execution_count": 4,
   "metadata": {},
   "outputs": [
    {
     "data": {
      "text/html": [
       "<div>\n",
       "<style scoped>\n",
       "    .dataframe tbody tr th:only-of-type {\n",
       "        vertical-align: middle;\n",
       "    }\n",
       "\n",
       "    .dataframe tbody tr th {\n",
       "        vertical-align: top;\n",
       "    }\n",
       "\n",
       "    .dataframe thead th {\n",
       "        text-align: right;\n",
       "    }\n",
       "</style>\n",
       "<table border=\"1\" class=\"dataframe\">\n",
       "  <thead>\n",
       "    <tr style=\"text-align: right;\">\n",
       "      <th></th>\n",
       "      <th>time</th>\n",
       "      <th>value</th>\n",
       "      <th>date</th>\n",
       "    </tr>\n",
       "  </thead>\n",
       "  <tbody>\n",
       "    <tr>\n",
       "      <th>12649</th>\n",
       "      <td>23:58:22</td>\n",
       "      <td>70</td>\n",
       "      <td>2022-04-12</td>\n",
       "    </tr>\n",
       "    <tr>\n",
       "      <th>12650</th>\n",
       "      <td>23:58:27</td>\n",
       "      <td>68</td>\n",
       "      <td>2022-04-12</td>\n",
       "    </tr>\n",
       "    <tr>\n",
       "      <th>12651</th>\n",
       "      <td>23:58:42</td>\n",
       "      <td>67</td>\n",
       "      <td>2022-04-12</td>\n",
       "    </tr>\n",
       "    <tr>\n",
       "      <th>12652</th>\n",
       "      <td>23:58:52</td>\n",
       "      <td>68</td>\n",
       "      <td>2022-04-12</td>\n",
       "    </tr>\n",
       "    <tr>\n",
       "      <th>12653</th>\n",
       "      <td>23:58:57</td>\n",
       "      <td>70</td>\n",
       "      <td>2022-04-12</td>\n",
       "    </tr>\n",
       "  </tbody>\n",
       "</table>\n",
       "</div>"
      ],
      "text/plain": [
       "           time  value        date\n",
       "12649  23:58:22     70  2022-04-12\n",
       "12650  23:58:27     68  2022-04-12\n",
       "12651  23:58:42     67  2022-04-12\n",
       "12652  23:58:52     68  2022-04-12\n",
       "12653  23:58:57     70  2022-04-12"
      ]
     },
     "execution_count": 4,
     "metadata": {},
     "output_type": "execute_result"
    }
   ],
   "source": [
    "fp.tail()"
   ]
  },
  {
   "cell_type": "code",
   "execution_count": 5,
   "metadata": {},
   "outputs": [],
   "source": [
    "fp_test = fp[(fp['time']>'14:00:00') & (fp['time'] < '14:05:00')]"
   ]
  },
  {
   "cell_type": "code",
   "execution_count": 6,
   "metadata": {},
   "outputs": [
    {
     "data": {
      "text/plain": [
       "Index(['time', 'value', 'date'], dtype='object')"
      ]
     },
     "execution_count": 6,
     "metadata": {},
     "output_type": "execute_result"
    }
   ],
   "source": [
    "fp_test.columns"
   ]
  },
  {
   "cell_type": "code",
   "execution_count": 7,
   "metadata": {},
   "outputs": [
    {
     "data": {
      "text/plain": [
       "value    85.027778\n",
       "dtype: float64"
      ]
     },
     "execution_count": 7,
     "metadata": {},
     "output_type": "execute_result"
    }
   ],
   "source": [
    "fp_test.mean()"
   ]
  },
  {
   "cell_type": "code",
   "execution_count": 8,
   "metadata": {},
   "outputs": [],
   "source": [
    "fp_total = fp[(fp['time']>'00:00:00') & (fp['time'] < '23:59:59')]"
   ]
  },
  {
   "cell_type": "code",
   "execution_count": 9,
   "metadata": {},
   "outputs": [
    {
     "data": {
      "text/plain": [
       "value    91.21322\n",
       "dtype: float64"
      ]
     },
     "execution_count": 9,
     "metadata": {},
     "output_type": "execute_result"
    }
   ],
   "source": [
    "fp_total.mean()"
   ]
  },
  {
   "cell_type": "code",
   "execution_count": 10,
   "metadata": {},
   "outputs": [],
   "source": [
    "nn_intervals_test = fp_test['value']"
   ]
  },
  {
   "cell_type": "code",
   "execution_count": 11,
   "metadata": {},
   "outputs": [],
   "source": [
    "def get_time_domain_features(nn_intervals_test) -> dict:\n",
    "\n",
    "    diff_nni = np.diff(nn_intervals_test)\n",
    "    length_int = len(nn_intervals_test)\n",
    "\n",
    "    # Basic statistics\n",
    "    mean_nni = np.mean(nn_intervals_test)\n",
    "    median_nni = np.median(nn_intervals_test)\n",
    "    range_nni = max(nn_intervals_test) - min(nn_intervals_test)\n",
    "\n",
    "    sdsd = np.std(diff_nni)\n",
    "    rmssd = np.sqrt(np.mean(diff_nni ** 2))\n",
    "\n",
    "    nni_50 = sum(np.abs(diff_nni) > 50)\n",
    "    pnni_50 = 100 * nni_50 / length_int\n",
    "    nni_20 = sum(np.abs(diff_nni) > 20)\n",
    "    pnni_20 = 100 * nni_20 / length_int\n",
    "\n",
    "    # Feature found on github and not in documentation\n",
    "    cvsd = rmssd / mean_nni\n",
    "\n",
    "    # Features only for long term recordings\n",
    "    sdnn = np.std(nn_intervals_test, ddof=1)  # ddof = 1 : unbiased estimator => divide std by n-1\n",
    "    cvnni = sdnn / mean_nni\n",
    "\n",
    "    # Heart Rate equivalent features\n",
    "    heart_rate_list = 60000/nn_intervals_test\n",
    "    mean_hr = np.mean(heart_rate_list)\n",
    "    min_hr = min(heart_rate_list)\n",
    "    max_hr = max(heart_rate_list)\n",
    "    std_hr = np.std(heart_rate_list)\n",
    "\n",
    "    time_domain_features = {\n",
    "        'mean_nni': mean_nni,\n",
    "        'sdnn': sdnn,\n",
    "        'sdsd': sdsd,\n",
    "        'nni_50': nni_50,\n",
    "        'pnni_50': pnni_50,\n",
    "        'nni_20': nni_20,\n",
    "        'pnni_20': pnni_20,\n",
    "        'rmssd': rmssd,\n",
    "        'median_nni': median_nni,\n",
    "        'range_nni': range_nni,\n",
    "        'cvsd': cvsd,\n",
    "        'cvnni': cvnni,\n",
    "        'mean_hr': mean_hr,\n",
    "        \"max_hr\": max_hr,\n",
    "        \"min_hr\": min_hr,\n",
    "        \"std_hr\": std_hr,\n",
    "    }\n",
    "\n",
    "    return time_domain_features"
   ]
  },
  {
   "cell_type": "code",
   "execution_count": 12,
   "metadata": {},
   "outputs": [
    {
     "data": {
      "text/plain": [
       "{'mean_nni': 85.02777777777777,\n",
       " 'sdnn': 2.157857550059597,\n",
       " 'sdsd': 1.124858267715973,\n",
       " 'nni_50': 0,\n",
       " 'pnni_50': 0.0,\n",
       " 'nni_20': 0,\n",
       " 'pnni_20': 0.0,\n",
       " 'rmssd': 1.1338934190276817,\n",
       " 'median_nni': 85.0,\n",
       " 'range_nni': 9,\n",
       " 'cvsd': 0.01333556454916581,\n",
       " 'cvnni': 0.02537826586153071,\n",
       " 'mean_hr': 706.0855571760259,\n",
       " 'max_hr': 731.7073170731708,\n",
       " 'min_hr': 659.3406593406594,\n",
       " 'std_hr': 17.345850732472485}"
      ]
     },
     "execution_count": 12,
     "metadata": {},
     "output_type": "execute_result"
    }
   ],
   "source": [
    "get_time_domain_features(nn_intervals_test) # 5분"
   ]
  },
  {
   "cell_type": "code",
   "execution_count": 13,
   "metadata": {},
   "outputs": [],
   "source": [
    "nn_intervals_total = fp_total['value']"
   ]
  },
  {
   "cell_type": "code",
   "execution_count": 18,
   "metadata": {},
   "outputs": [],
   "source": [
    "def get_time_domain_features(nn_intervals_total) -> dict:\n",
    "\n",
    "    diff_nni = np.diff(nn_intervals_total)\n",
    "    length_int = len(nn_intervals_total)\n",
    "\n",
    "    # Basic statistics\n",
    "    mean_nni = np.mean(nn_intervals_total)\n",
    "    median_nni = np.median(nn_intervals_total)\n",
    "    range_nni = max(nn_intervals_total) - min(nn_intervals_total)\n",
    "\n",
    "    sdsd = np.std(diff_nni)\n",
    "    rmssd = np.sqrt(np.mean(diff_nni ** 2))\n",
    "\n",
    "    nni_50 = sum(np.abs(diff_nni) > 50)\n",
    "    pnni_50 = 100 * nni_50 / length_int\n",
    "    nni_20 = sum(np.abs(diff_nni) > 20)\n",
    "    pnni_20 = 100 * nni_20 / length_int\n",
    "\n",
    "    # Feature found on github and not in documentation\n",
    "    cvsd = rmssd / mean_nni\n",
    "\n",
    "    # Features only for long term recordings\n",
    "    sdnn = np.std(nn_intervals_total, ddof=1)  # ddof(자유도) = 1 : unbiased estimator => divide std by n-1\n",
    "    cvnni = sdnn / mean_nni\n",
    "\n",
    "    # Heart Rate equivalent features\n",
    "    \n",
    "    # NN 간격과 심박동수의 관계는 심박동수 = 60/NN 간격이다. \n",
    "    heart_rate_list = nn_intervals_total\n",
    "    mean_hr = np.mean(heart_rate_list)\n",
    "    min_hr = min(heart_rate_list)\n",
    "    max_hr = max(heart_rate_list)\n",
    "    std_hr = np.std(heart_rate_list)\n",
    "    \n",
    "    # 스트레스 레벨\n",
    "    stress_level = 2*mean_hr-sdnn\n",
    "\n",
    "    time_domain_features = {\n",
    "        'mean_nni': mean_nni,\n",
    "        'sdnn': sdnn,\n",
    "        'sdsd': sdsd,\n",
    "        'nni_50': nni_50,\n",
    "        'pnni_50': pnni_50,\n",
    "        'nni_20': nni_20,\n",
    "        'pnni_20': pnni_20,\n",
    "        'rmssd': rmssd,\n",
    "        'median_nni': median_nni,\n",
    "        'range_nni': range_nni,\n",
    "        'cvsd': cvsd,\n",
    "        'cvnni': cvnni,\n",
    "        'mean_hr': mean_hr,\n",
    "        \"max_hr\": max_hr,\n",
    "        \"min_hr\": min_hr,\n",
    "        \"std_hr\": std_hr,\n",
    "        \"stress_level\" : stress_level\n",
    "        \n",
    "    }\n",
    "\n",
    "    return time_domain_features"
   ]
  },
  {
   "cell_type": "code",
   "execution_count": 19,
   "metadata": {
    "scrolled": true
   },
   "outputs": [
    {
     "data": {
      "text/plain": [
       "{'mean_nni': 91.21322033898305,\n",
       " 'sdnn': 12.978491962199525,\n",
       " 'sdsd': 2.0075848069007507,\n",
       " 'nni_50': 0,\n",
       " 'pnni_50': 0.0,\n",
       " 'nni_20': 0,\n",
       " 'pnni_20': 0.0,\n",
       " 'rmssd': 2.007585344420419,\n",
       " 'median_nni': 89.0,\n",
       " 'range_nni': 86,\n",
       " 'cvsd': 0.022009806659160455,\n",
       " 'cvnni': 0.1422873999401239,\n",
       " 'mean_hr': 91.21322033898305,\n",
       " 'max_hr': 148,\n",
       " 'min_hr': 62,\n",
       " 'std_hr': 12.977758693351673,\n",
       " 'stress_level': 169.4479487157666}"
      ]
     },
     "execution_count": 19,
     "metadata": {},
     "output_type": "execute_result"
    }
   ],
   "source": [
    "get_time_domain_features(nn_intervals_total)"
   ]
  },
  {
   "cell_type": "code",
   "execution_count": 26,
   "metadata": {},
   "outputs": [
    {
     "data": {
      "text/plain": [
       "148"
      ]
     },
     "execution_count": 26,
     "metadata": {},
     "output_type": "execute_result"
    }
   ],
   "source": [
    "nn_intervals_total.max()"
   ]
  },
  {
   "cell_type": "code",
   "execution_count": 1,
   "metadata": {},
   "outputs": [],
   "source": [
    "# 만성스트레스 지수 = 2M -(Tsdnn + Thrv-index)/2\n",
    "# 2M의 M = 각각의 평균이 되는 평균\n",
    "# Tsdnn = 스트레스 저항도(SDNN)의 표준지표 Ti\n",
    "# Thrv-index = 심기능 활성도(HRV-INDEX)의 표준지표 Tj"
   ]
  },
  {
   "cell_type": "code",
   "execution_count": 3,
   "metadata": {},
   "outputs": [],
   "source": [
    "# Triangular index = 밀도분포의 적분 \n",
    "# HRV triangular index = (total number of NN interval)/(number of NN intervals in the modal bin)"
   ]
  },
  {
   "cell_type": "code",
   "execution_count": null,
   "metadata": {},
   "outputs": [],
   "source": [
    "2*"
   ]
  },
  {
   "cell_type": "code",
   "execution_count": null,
   "metadata": {},
   "outputs": [],
   "source": []
  },
  {
   "cell_type": "code",
   "execution_count": null,
   "metadata": {},
   "outputs": [],
   "source": []
  },
  {
   "cell_type": "code",
   "execution_count": null,
   "metadata": {},
   "outputs": [],
   "source": []
  },
  {
   "cell_type": "code",
   "execution_count": null,
   "metadata": {},
   "outputs": [],
   "source": []
  }
 ],
 "metadata": {
  "kernelspec": {
   "display_name": "Python 3",
   "language": "python",
   "name": "python3"
  },
  "language_info": {
   "codemirror_mode": {
    "name": "ipython",
    "version": 3
   },
   "file_extension": ".py",
   "mimetype": "text/x-python",
   "name": "python",
   "nbconvert_exporter": "python",
   "pygments_lexer": "ipython3",
   "version": "3.7.6"
  }
 },
 "nbformat": 4,
 "nbformat_minor": 4
}
