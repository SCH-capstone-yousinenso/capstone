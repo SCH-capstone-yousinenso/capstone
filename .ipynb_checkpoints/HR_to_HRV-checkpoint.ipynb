{
 "cells": [
  {
   "cell_type": "code",
   "execution_count": 1,
   "metadata": {},
   "outputs": [],
   "source": [
    "import numpy as np\n",
    "import pandas as pd"
   ]
  },
  {
   "cell_type": "code",
   "execution_count": 2,
   "metadata": {},
   "outputs": [],
   "source": [
    "fp = pd.read_csv('/Users/dayeong/Downloads/all_intradata_1.csv')"
   ]
  },
  {
   "cell_type": "code",
   "execution_count": 3,
   "metadata": {},
   "outputs": [
    {
     "data": {
      "text/html": [
       "<div>\n",
       "<style scoped>\n",
       "    .dataframe tbody tr th:only-of-type {\n",
       "        vertical-align: middle;\n",
       "    }\n",
       "\n",
       "    .dataframe tbody tr th {\n",
       "        vertical-align: top;\n",
       "    }\n",
       "\n",
       "    .dataframe thead th {\n",
       "        text-align: right;\n",
       "    }\n",
       "</style>\n",
       "<table border=\"1\" class=\"dataframe\">\n",
       "  <thead>\n",
       "    <tr style=\"text-align: right;\">\n",
       "      <th></th>\n",
       "      <th>time</th>\n",
       "      <th>value</th>\n",
       "      <th>date</th>\n",
       "    </tr>\n",
       "  </thead>\n",
       "  <tbody>\n",
       "    <tr>\n",
       "      <th>0</th>\n",
       "      <td>16:46:38</td>\n",
       "      <td>73</td>\n",
       "      <td>2022-03-14</td>\n",
       "    </tr>\n",
       "    <tr>\n",
       "      <th>1</th>\n",
       "      <td>16:46:43</td>\n",
       "      <td>79</td>\n",
       "      <td>2022-03-14</td>\n",
       "    </tr>\n",
       "    <tr>\n",
       "      <th>2</th>\n",
       "      <td>16:46:48</td>\n",
       "      <td>80</td>\n",
       "      <td>2022-03-14</td>\n",
       "    </tr>\n",
       "    <tr>\n",
       "      <th>3</th>\n",
       "      <td>16:46:53</td>\n",
       "      <td>85</td>\n",
       "      <td>2022-03-14</td>\n",
       "    </tr>\n",
       "    <tr>\n",
       "      <th>4</th>\n",
       "      <td>16:47:03</td>\n",
       "      <td>84</td>\n",
       "      <td>2022-03-14</td>\n",
       "    </tr>\n",
       "  </tbody>\n",
       "</table>\n",
       "</div>"
      ],
      "text/plain": [
       "       time  value        date\n",
       "0  16:46:38     73  2022-03-14\n",
       "1  16:46:43     79  2022-03-14\n",
       "2  16:46:48     80  2022-03-14\n",
       "3  16:46:53     85  2022-03-14\n",
       "4  16:47:03     84  2022-03-14"
      ]
     },
     "execution_count": 3,
     "metadata": {},
     "output_type": "execute_result"
    }
   ],
   "source": [
    "fp.head()"
   ]
  },
  {
   "cell_type": "code",
   "execution_count": 4,
   "metadata": {},
   "outputs": [],
   "source": [
    "nn_intervals = fp['value']"
   ]
  },
  {
   "cell_type": "code",
   "execution_count": 5,
   "metadata": {},
   "outputs": [],
   "source": [
    "def get_time_domain_features(nn_intervals) -> dict:\n",
    "\n",
    "    diff_nni = np.diff(nn_intervals)\n",
    "    length_int = len(nn_intervals)\n",
    "\n",
    "    # Basic statistics\n",
    "    mean_nni = np.mean(nn_intervals)\n",
    "    median_nni = np.median(nn_intervals)\n",
    "    range_nni = max(nn_intervals) - min(nn_intervals)\n",
    "\n",
    "    sdsd = np.std(diff_nni)\n",
    "    rmssd = np.sqrt(np.mean(diff_nni ** 2))\n",
    "\n",
    "    nni_50 = sum(np.abs(diff_nni) > 50)\n",
    "    pnni_50 = 100 * nni_50 / length_int\n",
    "    nni_20 = sum(np.abs(diff_nni) > 20)\n",
    "    pnni_20 = 100 * nni_20 / length_int\n",
    "\n",
    "    # Feature found on github and not in documentation\n",
    "    cvsd = rmssd / mean_nni\n",
    "\n",
    "    # Features only for long term recordings\n",
    "    sdnn = np.std(nn_intervals, ddof=1)  # ddof = 1 : unbiased estimator => divide std by n-1\n",
    "    cvnni = sdnn / mean_nni\n",
    "\n",
    "    # Heart Rate equivalent features\n",
    "    heart_rate_list = np.divide(60000, nn_intervals)\n",
    "    mean_hr = np.mean(heart_rate_list)\n",
    "    min_hr = min(heart_rate_list)\n",
    "    max_hr = max(heart_rate_list)\n",
    "    std_hr = np.std(heart_rate_list)\n",
    "\n",
    "    time_domain_features = {\n",
    "        'mean_nni': mean_nni,\n",
    "        'sdnn': sdnn,\n",
    "        'sdsd': sdsd,\n",
    "        'nni_50': nni_50,\n",
    "        'pnni_50': pnni_50,\n",
    "        'nni_20': nni_20,\n",
    "        'pnni_20': pnni_20,\n",
    "        'rmssd': rmssd,\n",
    "        'median_nni': median_nni,\n",
    "        'range_nni': range_nni,\n",
    "        'cvsd': cvsd,\n",
    "        'cvnni': cvnni,\n",
    "        'mean_hr': mean_hr,\n",
    "        \"max_hr\": max_hr,\n",
    "        \"min_hr\": min_hr,\n",
    "        \"std_hr\": std_hr,\n",
    "    }\n",
    "\n",
    "    return time_domain_features"
   ]
  },
  {
   "cell_type": "code",
   "execution_count": 7,
   "metadata": {},
   "outputs": [
    {
     "data": {
      "text/plain": [
       "{'mean_nni': 76.74671171171171,\n",
       " 'sdnn': 18.895303815022995,\n",
       " 'sdsd': 2.3284743745492666,\n",
       " 'nni_50': 1,\n",
       " 'pnni_50': 0.0005630630630630631,\n",
       " 'nni_20': 40,\n",
       " 'pnni_20': 0.02252252252252252,\n",
       " 'rmssd': 2.3284743751007118,\n",
       " 'median_nni': 76.0,\n",
       " 'range_nni': 123,\n",
       " 'cvsd': 0.030339728219852598,\n",
       " 'cvnni': 0.24620343195941163,\n",
       " 'mean_hr': 828.2491349004488,\n",
       " 'max_hr': 1395.3488372093022,\n",
       " 'min_hr': 361.4457831325301,\n",
       " 'std_hr': 196.25592379186045}"
      ]
     },
     "execution_count": 7,
     "metadata": {},
     "output_type": "execute_result"
    }
   ],
   "source": [
    "get_time_domain_features(nn_intervals)"
   ]
  },
  {
   "cell_type": "code",
   "execution_count": null,
   "metadata": {},
   "outputs": [],
   "source": []
  }
 ],
 "metadata": {
  "kernelspec": {
   "display_name": "Python 3",
   "language": "python",
   "name": "python3"
  },
  "language_info": {
   "codemirror_mode": {
    "name": "ipython",
    "version": 3
   },
   "file_extension": ".py",
   "mimetype": "text/x-python",
   "name": "python",
   "nbconvert_exporter": "python",
   "pygments_lexer": "ipython3",
   "version": "3.7.6"
  }
 },
 "nbformat": 4,
 "nbformat_minor": 4
}
