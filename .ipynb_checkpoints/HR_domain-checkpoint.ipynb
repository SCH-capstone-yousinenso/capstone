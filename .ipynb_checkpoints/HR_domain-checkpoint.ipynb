{
 "cells": [
  {
   "cell_type": "code",
   "execution_count": 16,
   "metadata": {},
   "outputs": [],
   "source": [
    "import numpy as np\n",
    "import pandas as pd\n",
    "import biosppy\n",
    "import pyhrv.tools as tools\n",
    "from pyhrv.hrv import hrv"
   ]
  },
  {
   "cell_type": "code",
   "execution_count": 23,
   "metadata": {},
   "outputs": [],
   "source": [
    "# 4.12 데이터 기준임 \n",
    "fp = pd.read_csv('/Users/dayeong/Downloads/all_intradata_dy.csv')  \n",
    "\n"
   ]
  },
  {
   "cell_type": "code",
   "execution_count": 18,
   "metadata": {},
   "outputs": [
    {
     "data": {
      "text/html": [
       "<div>\n",
       "<style scoped>\n",
       "    .dataframe tbody tr th:only-of-type {\n",
       "        vertical-align: middle;\n",
       "    }\n",
       "\n",
       "    .dataframe tbody tr th {\n",
       "        vertical-align: top;\n",
       "    }\n",
       "\n",
       "    .dataframe thead th {\n",
       "        text-align: right;\n",
       "    }\n",
       "</style>\n",
       "<table border=\"1\" class=\"dataframe\">\n",
       "  <thead>\n",
       "    <tr style=\"text-align: right;\">\n",
       "      <th></th>\n",
       "      <th>time</th>\n",
       "      <th>value</th>\n",
       "      <th>date</th>\n",
       "    </tr>\n",
       "  </thead>\n",
       "  <tbody>\n",
       "    <tr>\n",
       "      <th>0</th>\n",
       "      <td>0:00:01</td>\n",
       "      <td>83</td>\n",
       "      <td>2022-04-12</td>\n",
       "    </tr>\n",
       "    <tr>\n",
       "      <th>1</th>\n",
       "      <td>0:00:06</td>\n",
       "      <td>86</td>\n",
       "      <td>2022-04-12</td>\n",
       "    </tr>\n",
       "    <tr>\n",
       "      <th>2</th>\n",
       "      <td>0:00:11</td>\n",
       "      <td>85</td>\n",
       "      <td>2022-04-12</td>\n",
       "    </tr>\n",
       "    <tr>\n",
       "      <th>3</th>\n",
       "      <td>0:00:16</td>\n",
       "      <td>83</td>\n",
       "      <td>2022-04-12</td>\n",
       "    </tr>\n",
       "    <tr>\n",
       "      <th>4</th>\n",
       "      <td>0:00:21</td>\n",
       "      <td>84</td>\n",
       "      <td>2022-04-12</td>\n",
       "    </tr>\n",
       "  </tbody>\n",
       "</table>\n",
       "</div>"
      ],
      "text/plain": [
       "      time  value        date\n",
       "0  0:00:01     83  2022-04-12\n",
       "1  0:00:06     86  2022-04-12\n",
       "2  0:00:11     85  2022-04-12\n",
       "3  0:00:16     83  2022-04-12\n",
       "4  0:00:21     84  2022-04-12"
      ]
     },
     "execution_count": 18,
     "metadata": {},
     "output_type": "execute_result"
    }
   ],
   "source": [
    "fp.head()"
   ]
  },
  {
   "cell_type": "code",
   "execution_count": 19,
   "metadata": {},
   "outputs": [
    {
     "data": {
      "text/html": [
       "<div>\n",
       "<style scoped>\n",
       "    .dataframe tbody tr th:only-of-type {\n",
       "        vertical-align: middle;\n",
       "    }\n",
       "\n",
       "    .dataframe tbody tr th {\n",
       "        vertical-align: top;\n",
       "    }\n",
       "\n",
       "    .dataframe thead th {\n",
       "        text-align: right;\n",
       "    }\n",
       "</style>\n",
       "<table border=\"1\" class=\"dataframe\">\n",
       "  <thead>\n",
       "    <tr style=\"text-align: right;\">\n",
       "      <th></th>\n",
       "      <th>time</th>\n",
       "      <th>value</th>\n",
       "      <th>date</th>\n",
       "    </tr>\n",
       "  </thead>\n",
       "  <tbody>\n",
       "    <tr>\n",
       "      <th>12649</th>\n",
       "      <td>23:58:22</td>\n",
       "      <td>70</td>\n",
       "      <td>2022-04-12</td>\n",
       "    </tr>\n",
       "    <tr>\n",
       "      <th>12650</th>\n",
       "      <td>23:58:27</td>\n",
       "      <td>68</td>\n",
       "      <td>2022-04-12</td>\n",
       "    </tr>\n",
       "    <tr>\n",
       "      <th>12651</th>\n",
       "      <td>23:58:42</td>\n",
       "      <td>67</td>\n",
       "      <td>2022-04-12</td>\n",
       "    </tr>\n",
       "    <tr>\n",
       "      <th>12652</th>\n",
       "      <td>23:58:52</td>\n",
       "      <td>68</td>\n",
       "      <td>2022-04-12</td>\n",
       "    </tr>\n",
       "    <tr>\n",
       "      <th>12653</th>\n",
       "      <td>23:58:57</td>\n",
       "      <td>70</td>\n",
       "      <td>2022-04-12</td>\n",
       "    </tr>\n",
       "  </tbody>\n",
       "</table>\n",
       "</div>"
      ],
      "text/plain": [
       "           time  value        date\n",
       "12649  23:58:22     70  2022-04-12\n",
       "12650  23:58:27     68  2022-04-12\n",
       "12651  23:58:42     67  2022-04-12\n",
       "12652  23:58:52     68  2022-04-12\n",
       "12653  23:58:57     70  2022-04-12"
      ]
     },
     "execution_count": 19,
     "metadata": {},
     "output_type": "execute_result"
    }
   ],
   "source": [
    "fp.tail()"
   ]
  },
  {
   "cell_type": "code",
   "execution_count": 20,
   "metadata": {},
   "outputs": [],
   "source": [
    "nn_intervals = 60000/ fp['value']"
   ]
  },
  {
   "cell_type": "code",
   "execution_count": 24,
   "metadata": {},
   "outputs": [
    {
     "data": {
      "text/plain": [
       "0        722.891566\n",
       "1        697.674419\n",
       "2        705.882353\n",
       "3        722.891566\n",
       "4        714.285714\n",
       "            ...    \n",
       "12649    857.142857\n",
       "12650    882.352941\n",
       "12651    895.522388\n",
       "12652    882.352941\n",
       "12653    857.142857\n",
       "Name: value, Length: 12654, dtype: float64"
      ]
     },
     "execution_count": 24,
     "metadata": {},
     "output_type": "execute_result"
    }
   ],
   "source": [
    "nn_intervals"
   ]
  },
  {
   "cell_type": "code",
   "execution_count": 21,
   "metadata": {},
   "outputs": [],
   "source": [
    "def get_time_domain_features(nn_intervals) -> dict:\n",
    "\n",
    "    diff_nni = np.diff(nn_intervals)\n",
    "    length_int = len(nn_intervals)\n",
    "\n",
    "    # Basic statistics\n",
    "    mean_nni = np.mean(nn_intervals)\n",
    "    median_nni = np.median(nn_intervals)\n",
    "    range_nni = max(nn_intervals) - min(nn_intervals)\n",
    "\n",
    "    sdsd = np.std(diff_nni)\n",
    "    rmssd = np.sqrt(np.mean(diff_nni ** 2))\n",
    "\n",
    "    nni_50 = sum(np.abs(diff_nni) > 50)\n",
    "    pnni_50 = 100 * nni_50 / length_int\n",
    "    nni_20 = sum(np.abs(diff_nni) > 20)\n",
    "    pnni_20 = 100 * nni_20 / length_int\n",
    "\n",
    "    # Feature found on github and not in documentation\n",
    "    cvsd = rmssd / mean_nni\n",
    "\n",
    "    # Features only for long term recordings\n",
    "    sdnn = np.std(nn_intervals, ddof=1)  # ddof = 1 : unbiased estimator => divide std by n-1\n",
    "    cvnni = sdnn / mean_nni\n",
    "\n",
    "    # Heart Rate equivalent features\n",
    "    heart_rate_list = np.divide(60000, nn_intervals)\n",
    "    mean_hr = np.mean(heart_rate_list)\n",
    "    min_hr = min(heart_rate_list)\n",
    "    max_hr = max(heart_rate_list)\n",
    "    std_hr = np.std(heart_rate_list)\n",
    "\n",
    "    time_domain_features = {\n",
    "        'mean_nni': mean_nni,\n",
    "        'sdnn': sdnn,\n",
    "        'sdsd': sdsd,\n",
    "        'nni_50': nni_50,\n",
    "        'pnni_50': pnni_50,\n",
    "        'nni_20': nni_20,\n",
    "        'pnni_20': pnni_20,\n",
    "        'rmssd': rmssd,\n",
    "        'median_nni': median_nni,\n",
    "        'range_nni': range_nni,\n",
    "        'cvsd': cvsd,\n",
    "        'cvnni': cvnni,\n",
    "        'mean_hr': mean_hr,\n",
    "        \"max_hr\": max_hr,\n",
    "        \"min_hr\": min_hr,\n",
    "        \"std_hr\": std_hr,\n",
    "    }\n",
    "\n",
    "    return time_domain_features"
   ]
  },
  {
   "cell_type": "code",
   "execution_count": 22,
   "metadata": {},
   "outputs": [
    {
     "data": {
      "text/plain": [
       "{'mean_nni': 711.6311740667512,\n",
       " 'sdnn': 114.40747223732258,\n",
       " 'sdsd': 16.919303007173355,\n",
       " 'nni_50': 130,\n",
       " 'pnni_50': 1.0273431326062905,\n",
       " 'nni_20': 2226,\n",
       " 'pnni_20': 17.59127548601233,\n",
       " 'rmssd': 16.919306334055513,\n",
       " 'median_nni': 705.8823529411765,\n",
       " 'range_nni': 611.5437471369675,\n",
       " 'cvsd': 0.02377538667589129,\n",
       " 'cvnni': 0.16076793205041792,\n",
       " 'mean_hr': 86.62920815552394,\n",
       " 'max_hr': 148.0,\n",
       " 'min_hr': 59.0,\n",
       " 'std_hr': 14.7046531780988}"
      ]
     },
     "execution_count": 22,
     "metadata": {},
     "output_type": "execute_result"
    }
   ],
   "source": [
    "get_time_domain_features(nn_intervals)"
   ]
  },
  {
   "cell_type": "code",
   "execution_count": null,
   "metadata": {},
   "outputs": [],
   "source": []
  }
 ],
 "metadata": {
  "kernelspec": {
   "display_name": "Python 3",
   "language": "python",
   "name": "python3"
  },
  "language_info": {
   "codemirror_mode": {
    "name": "ipython",
    "version": 3
   },
   "file_extension": ".py",
   "mimetype": "text/x-python",
   "name": "python",
   "nbconvert_exporter": "python",
   "pygments_lexer": "ipython3",
   "version": "3.7.6"
  }
 },
 "nbformat": 4,
 "nbformat_minor": 4
}
